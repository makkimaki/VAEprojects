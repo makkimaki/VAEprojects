{
  "nbformat": 4,
  "nbformat_minor": 0,
  "metadata": {
    "colab": {
      "name": "Convolutional VAE.ipynb",
      "provenance": [],
      "collapsed_sections": [],
      "authorship_tag": "ABX9TyOG4DZ3G/rEGCSkft7jIiOj",
      "include_colab_link": true
    },
    "kernelspec": {
      "name": "python3",
      "display_name": "Python 3"
    }
  },
  "cells": [
    {
      "cell_type": "markdown",
      "metadata": {
        "id": "view-in-github",
        "colab_type": "text"
      },
      "source": [
        "<a href=\"https://colab.research.google.com/github/makkimaki/VAEprojects/blob/master/Convolutional_VAE.ipynb\" target=\"_parent\"><img src=\"https://colab.research.google.com/assets/colab-badge.svg\" alt=\"Open In Colab\"/></a>"
      ]
    },
    {
      "cell_type": "code",
      "metadata": {
        "id": "4STqpio_S9a_",
        "outputId": "cd81f0dc-2b4b-48b1-b492-d13dee17619d",
        "colab": {
          "base_uri": "https://localhost:8080/",
          "height": 34
        }
      },
      "source": [
        "import pandas as pd\n",
        "import numpy as np\n",
        "import matplotlib\n",
        "import matplotlib.pyplot as plt\n",
        "import matplotlib.patches as mpatches\n",
        "%matplotlib inline\n",
        "\n",
        "from scipy.stats import norm\n",
        "\n",
        "import glob\n",
        "import imageio\n",
        "import PIL\n",
        "from IPython import display\n",
        "\n",
        "import tensorflow as tf\n",
        "from tensorflow.keras import layers\n",
        "from tensorflow.keras.models import Model\n",
        "from tensorflow.keras import metrics\n",
        "from tensorflow.keras import backend as K\n",
        "import tensorflow_probability as tfp\n",
        "import time\n",
        "\n",
        "np.random.seed(42)\n",
        "print(tf.__version__)"
      ],
      "execution_count": 24,
      "outputs": [
        {
          "output_type": "stream",
          "text": [
            "2.3.0\n"
          ],
          "name": "stdout"
        }
      ]
    },
    {
      "cell_type": "code",
      "metadata": {
        "id": "LAGrnmlLUR3N"
      },
      "source": [
        "(train_images, _), (test_images, _) = tf.keras.datasets.mnist.load_data()"
      ],
      "execution_count": 25,
      "outputs": []
    },
    {
      "cell_type": "code",
      "metadata": {
        "id": "8-bG1P5XhLJ0",
        "outputId": "025961b3-1d7a-406d-91d3-92592c629156",
        "colab": {
          "base_uri": "https://localhost:8080/",
          "height": 34
        }
      },
      "source": [
        "train_images.shape"
      ],
      "execution_count": 26,
      "outputs": [
        {
          "output_type": "execute_result",
          "data": {
            "text/plain": [
              "(60000, 28, 28)"
            ]
          },
          "metadata": {
            "tags": []
          },
          "execution_count": 26
        }
      ]
    },
    {
      "cell_type": "code",
      "metadata": {
        "id": "5FEEBMj1U0uk"
      },
      "source": [
        "def preprocess_images(images):\n",
        "  images = images.reshape((images.shape[0], 28, 28, 1)) / 255.\n",
        "  return np.where(images > 0.5, 1.0, 0.0).astype(\"float32\")\n",
        "\n",
        "train_images_preprocessed = preprocess_images(train_images)\n",
        "test_images_preprocessed = preprocess_images(test_images)"
      ],
      "execution_count": 27,
      "outputs": []
    },
    {
      "cell_type": "code",
      "metadata": {
        "id": "PXLhuqSChNl5",
        "outputId": "4e4ab846-2191-4d68-c62b-9bad90a48880",
        "colab": {
          "base_uri": "https://localhost:8080/",
          "height": 34
        }
      },
      "source": [
        "train_images_preprocessed.shape"
      ],
      "execution_count": 28,
      "outputs": [
        {
          "output_type": "execute_result",
          "data": {
            "text/plain": [
              "(60000, 28, 28, 1)"
            ]
          },
          "metadata": {
            "tags": []
          },
          "execution_count": 28
        }
      ]
    },
    {
      "cell_type": "code",
      "metadata": {
        "id": "W4BnSFoLg421",
        "outputId": "7c8ebb20-1e46-4dce-eb93-eaec2299fbde",
        "colab": {
          "base_uri": "https://localhost:8080/",
          "height": 163
        }
      },
      "source": [
        "plt.figure(1)\n",
        "plt.subplot(221)\n",
        "plt.imshow(train_images[0, :, :])\n",
        "plt.axis(\"off\")\n",
        "plt.title(\"row image\")\n",
        "\n",
        "plt.subplot(222)\n",
        "plt.imshow(train_images_preprocessed[0, :, :, 0])\n",
        "plt.axis(\"off\")\n",
        "plt.title(\"preprocessed image\")"
      ],
      "execution_count": 29,
      "outputs": [
        {
          "output_type": "execute_result",
          "data": {
            "text/plain": [
              "Text(0.5, 1.0, 'preprocessed image')"
            ]
          },
          "metadata": {
            "tags": []
          },
          "execution_count": 29
        },
        {
          "output_type": "display_data",
          "data": {
            "image/png": "[encoded data removed]",
            "text/plain": [
              "<Figure size 432x288 with 2 Axes>"
            ]
          },
          "metadata": {
            "tags": [],
            "needs_background": "light"
          }
        }
      ]
    },
    {
      "cell_type": "code",
      "metadata": {
        "id": "G_U_1lXbhTNg"
      },
      "source": [
        "train_size = 60000\n",
        "batch_size = 32\n",
        "test_size = 10000"
      ],
      "execution_count": 30,
      "outputs": []
    },
    {
      "cell_type": "markdown",
      "metadata": {
        "id": "xQiIMG5ziczm"
      },
      "source": [
        "## Use tf.data to batch and shuffle the data"
      ]
    },
    {
      "cell_type": "code",
      "metadata": {
        "id": "qAGkkn1MibUg"
      },
      "source": [
        "train_dataset = (tf.data.Dataset.from_tensor_slices(train_images_preprocessed).shuffle(train_size).batch(batch_size))\n",
        "test_dataset = (tf.data.Dataset.from_tensor_slices(test_images_preprocessed).shuffle(test_size).batch(batch_size))"
      ],
      "execution_count": 31,
      "outputs": []
    },
    {
      "cell_type": "code",
      "metadata": {
        "id": "EaYsiCtxit6z",
        "outputId": "9280c1fd-cc55-4158-f96d-85511fbc4ea5",
        "colab": {
          "base_uri": "https://localhost:8080/",
          "height": 34
        }
      },
      "source": [
        "train_dataset"
      ],
      "execution_count": 32,
      "outputs": [
        {
          "output_type": "execute_result",
          "data": {
            "text/plain": [
              "<BatchDataset shapes: (None, 28, 28, 1), types: tf.float32>"
            ]
          },
          "metadata": {
            "tags": []
          },
          "execution_count": 32
        }
      ]
    },
    {
      "cell_type": "code",
      "metadata": {
        "id": "glWk78mmkhLp"
      },
      "source": [
        "class CVAE(tf.keras.Model):\n",
        "  \"\"\"Convolutional variational autoencoder.\"\"\"\n",
        "\n",
        "  def __init__(self, latent_dim):\n",
        "    super(CVAE, self).__init__()\n",
        "    self.latent_dim = latent_dim\n",
        "    self.encoder = tf.keras.Sequential(\n",
        "        [\n",
        "         tf.keras.layers.InputLayer(input_shape=(28, 28, 1)),\n",
        "         tf.keras.layers.Conv2D(\n",
        "             filters=32, kernel_size=3, strides=(2,2), activation=\"relu\"),\n",
        "         tf.keras.layers.Conv2D(\n",
        "             filters=64, kernel_size=3, strides=(2,2), activation=\"relu\"),\n",
        "         tf.keras.layers.Flatten(),\n",
        "         # no activation\n",
        "         tf.keras.layeres.Dense(latent_dim + latend_dim),\n",
        "        ]\n",
        "    )\n",
        "\n",
        "    self.decoder = tf.keras.Sequential(\n",
        "        [\n",
        "         tf.keras.layers.InputLayer(input_shape=(latent_dim,)),\n",
        "         tf.keras.layers.Dense(units=7*7*32, activation=\"relu\"),\n",
        "         tf.keras.layers.Reshape(target_shape=(7,7,32)),\n",
        "         tf.keras.layers.Conv2DTranspose(filters=64, kernel_size=3, strides=2, padding=\"same\", activation=\"relu\"),\n",
        "         tf.keras.layers.Conv2DTranspose(filters=1, kernel_size=3, strides=1, padding=\"same\")\n",
        "        ]\n",
        "    )\n",
        "\n",
        "    @tf.function\n",
        "    def sample(self, eps=None):\n",
        "      if eps is None:\n",
        "        eps = tf.random.normal(shape=(100, self.latent_dim))\n",
        "      return self.decode(eps, apply_sigmoid=True)\n",
        "\n",
        "    def encode(self, x):\n",
        "      mean, logvar = tf.split(self.encoder(x), num_or_size_splits=2, axis=1)\n",
        "      return mean, logvar\n",
        "\n",
        "    def reparameterize(self, mean, logvar):\n",
        "      eps = tf.random.normal(shape=mean.shape)\n",
        "      return eps * tf.exp(logvar * 0.5) + mean\n",
        "\n",
        "    def decode(self, z, apply_sigmoid=False):\n",
        "      logits = self.decoder(z)\n",
        "      if apply_sigmoid:\n",
        "        probs = tf.sigmoid(logits)\n",
        "        return probs\n",
        "      return logits"
      ],
      "execution_count": 33,
      "outputs": []
    },
    {
      "cell_type": "markdown",
      "metadata": {
        "id": "qvEZ5KxCrz1d"
      },
      "source": [
        ""
      ]
    }
  ]
}