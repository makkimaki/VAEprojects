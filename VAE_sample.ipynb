{
 "metadata": {
  "language_info": {
   "codemirror_mode": {
    "name": "ipython",
    "version": 3
   },
   "file_extension": ".py",
   "mimetype": "text/x-python",
   "name": "python",
   "nbconvert_exporter": "python",
   "pygments_lexer": "ipython3",
   "version": "3.7.3-final"
  },
  "orig_nbformat": 2,
  "kernelspec": {
   "name": "python37364bitanaconda3condab62b6469273b40019ec59333b81f150c",
   "display_name": "Python 3.7.3 64-bit ('anaconda3': conda)"
  }
 },
 "nbformat": 4,
 "nbformat_minor": 2,
 "cells": [
  {
   "cell_type": "code",
   "execution_count": 1,
   "metadata": {},
   "outputs": [],
   "source": [
    "import os \n",
    "import numpy as np\n",
    "import tensorflow as tf\n",
    "from tensorflow.keras import datasets\n",
    "from tensorflow.keras.models import Model\n",
    "from tensorflow.keras.layers import Dense\n",
    "from tensorflow.keras import optimizers\n",
    "from tensorflow.keras import metrics\n",
    "from DataLoader import DataLoader\n",
    "import matplotlib.pyplot as plt\n",
    "#matplotlib inline"
   ]
  },
  {
   "cell_type": "code",
   "execution_count": 3,
   "metadata": {},
   "outputs": [],
   "source": [
    "class VAE(Model):\n",
    "    def __init__(self):\n",
    "        self.encoder = Encoder()\n",
    "        self.decoder = Decoder()\n",
    "\n",
    "    def call(self, x):\n",
    "        mean, var = self.encoder(x)\n",
    "        z = self.reparameterize(mean, var)\n",
    "        y = self.decoder(z)\n",
    "        return y\n",
    "\n",
    "    def reparameterize(self, mean, var):\n",
    "        eps = tf.random.normal(mean.shape)\n",
    "        z = mean + tf.math.sqrt(var) * eps\n",
    "        return z\n",
    "\n",
    "    def lower_bound(self, x):\n",
    "        mean, var = self.encoder(x)\n",
    "        kl = -1/2 * tf.reduce_mean(tf.reduce_sum(1 + self._log(var, max=var)-mean**2-var, axis=1))\n",
    "        z = self.reparameterize(mean, var)\n",
    "        y = self.decoder(z)\n",
    "\n",
    "        reconst = tf.reduce_mean(tf.reduce_sum(x * self._log(y) + (1-x)*self._log(1-y), axis=1))\n",
    "        L = reconst - kl\n",
    "        return L\n",
    "\n",
    "    def _log(self, value, min=1.e-10, max=1.0):\n",
    "        return tf.math.log(tf.clip_by_value(value, min, max))"
   ]
  },
  {
   "cell_type": "code",
   "execution_count": 5,
   "metadata": {},
   "outputs": [],
   "source": [
    "class Encoder(Model):\n",
    "    def __init__(self):\n",
    "        super().__init__()\n",
    "        self.l1 = Dense(200, activation=\"relu\")\n",
    "        self.l2 = Dense(200, activation=\"relu\")\n",
    "        self.l_mean = Dense(10, activation=\"linear\")\n",
    "        self.l_var = Dense(10, activation=tf.nn.softplus)\n",
    "\n",
    "    def call(self, x):\n",
    "        h = self.l1(x)\n",
    "        h = self.l2(h)\n",
    "\n",
    "        mean = self.l_mean(h)\n",
    "        var = self.l_var(h)\n",
    "        return mean, var"
   ]
  },
  {
   "cell_type": "code",
   "execution_count": null,
   "metadata": {},
   "outputs": [],
   "source": [
    "class Decoder(Model):\n",
    "    def __init__(self):\n",
    "        super().__init__()\n",
    "        self.l1 = Dense(200, activation=\"relu\")\n",
    "        self.l2 = Dense(200, activation=\"relu\")\n",
    "        self.out = Dense(783, activation=\"sigmoid\")\n",
    "\n",
    "    def call(self, x):\n",
    "        h = self.l1(x)\n",
    "        h = self.l2(h)\n",
    "        y = self.out(h)\n",
    "        return y\n",
    "        "
   ]
  }
 ]
}